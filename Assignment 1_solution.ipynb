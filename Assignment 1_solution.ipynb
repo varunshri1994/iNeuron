{
 "cells": [
  {
   "cell_type": "markdown",
   "metadata": {},
   "source": [
    "# Write a program which will find all such numbers which are divisible by 7 but are not a multiple of 5, between 2000 and 3200 (both included). The numbers obtained should be printed in a comma-separated sequence on a single line."
   ]
  },
  {
   "cell_type": "code",
   "execution_count": 10,
   "metadata": {},
   "outputs": [
    {
     "name": "stdout",
     "output_type": "stream",
     "text": [
      "2002,2009,2016,2023,2037,2044,2051,2058,2072,2079,2086,2093,2107,2114,2121,2128,2142,2149,2156,2163,2177,2184,2191,2198,2212,2219,2226,2233,2247,2254,2261,2268,2282,2289,2296,2303,2317,2324,2331,2338,2352,2359,2366,2373,2387,2394,2401,2408,2422,2429,2436,2443,2457,2464,2471,2478,2492,2499,2506,2513,2527,2534,2541,2548,2562,2569,2576,2583,2597,2604,2611,2618,2632,2639,2646,2653,2667,2674,2681,2688,2702,2709,2716,2723,2737,2744,2751,2758,2772,2779,2786,2793,2807,2814,2821,2828,2842,2849,2856,2863,2877,2884,2891,2898,2912,2919,2926,2933,2947,2954,2961,2968,2982,2989,2996,3003,3017,3024,3031,3038,3052,3059,3066,3073,3087,3094,3101,3108,3122,3129,3136,3143,3157,3164,3171,3178,3192,3199,"
     ]
    }
   ],
   "source": [
    "#number which are divisible by 7 and not a multiple of 5\n",
    "#intializing the loop between the numbers\n",
    "for i in range (2000,3201):\n",
    "    #conditions \n",
    "    if i % 7 == 0 and i% 5 != 0:\n",
    "    #printing the result\n",
    "        print(i,end = \",\")\n",
    "        "
   ]
  },
  {
   "cell_type": "markdown",
   "metadata": {},
   "source": [
    "# Write a Python program to accept the user's first and last name and then getting them printed in the the reverse order with a space between first name and last name."
   ]
  },
  {
   "cell_type": "code",
   "execution_count": 11,
   "metadata": {},
   "outputs": [
    {
     "name": "stdout",
     "output_type": "stream",
     "text": [
      "Enter the first name varun\n",
      "Enter the last name shrivastava\n",
      "The reverse of name is avatsavirhs nurav\n"
     ]
    }
   ],
   "source": [
    "# accepting users first name and last name from user and reversing the string\n",
    "\n",
    "first_name = input (\"Enter the first name \")\n",
    "last_name = input(\"Enter the last name \")\n",
    "space = \" \"\n",
    "\n",
    "rev= first_name+space+last_name\n",
    "\n",
    "reverse = rev[::-1]\n",
    "\n",
    "print(\"The reverse of name is\", reverse)\n"
   ]
  },
  {
   "cell_type": "markdown",
   "metadata": {},
   "source": [
    "# Write a Python program to find the volume of a sphere with diameter 12 cm."
   ]
  },
  {
   "cell_type": "code",
   "execution_count": 34,
   "metadata": {},
   "outputs": [
    {
     "name": "stdout",
     "output_type": "stream",
     "text": [
      "904.3199999999999\n"
     ]
    }
   ],
   "source": [
    "#Write a Python program to find the volume of a sphere with diameter 12 cm.\n",
    "#V=4/3 * π * r ^3\n",
    "\n",
    "d = 12\n",
    "r = d/2\n",
    "pi = 3.14\n",
    "\n",
    "vol = (4/3)*pi*(r*r*r)\n",
    "print(vol)"
   ]
  },
  {
   "cell_type": "markdown",
   "metadata": {},
   "source": [
    "# Write a program which accepts a sequence of comma-separated numbers from console and  generate a list."
   ]
  },
  {
   "cell_type": "code",
   "execution_count": 43,
   "metadata": {},
   "outputs": [
    {
     "name": "stdout",
     "output_type": "stream",
     "text": [
      "Enter the numbers using ',' to seprate 2,2322,222,55,5\n",
      "['2', '2322', '222', '55', '5']\n",
      "[2, 2322, 222, 55, 5]\n"
     ]
    }
   ],
   "source": [
    "#Write a program which accepts a sequence of comma-separated numbers from console and generate a list.\n",
    "\n",
    "numbs = input(\"Enter the numbers using ',' to seprate \")\n",
    "\n",
    "num =  numbs.split(\",\")\n",
    "\n",
    "lstnumb =  list((num))\n",
    "\n",
    "print(lstnumb)\n",
    "\n",
    "list1 = []\n",
    "\n",
    "for i in lstnumb:\n",
    "    list1.append(int(i))\n",
    "print(list1)"
   ]
  },
  {
   "cell_type": "markdown",
   "metadata": {},
   "source": [
    "# Create the below pattern using nested for loop in Python."
   ]
  },
  {
   "cell_type": "code",
   "execution_count": 56,
   "metadata": {},
   "outputs": [
    {
     "name": "stdout",
     "output_type": "stream",
     "text": [
      "enter number8\n",
      "* \n",
      "* * \n",
      "* * * \n",
      "* * * * \n",
      "* * * * * \n",
      "* * * * * * \n",
      "* * * * * * * \n",
      "* * * * * * * * \n",
      "* * * * * * * \n",
      "* * * * * * \n",
      "* * * * * \n",
      "* * * * \n",
      "* * * \n",
      "* * \n",
      "* \n",
      "\n"
     ]
    }
   ],
   "source": [
    "rows =  int(input(\"enter number\"))\n",
    "for i in range(0, rows):\n",
    "    for j in range(0, i + 1):\n",
    "        print(\"*\", end=' ')\n",
    "    print(\"\")\n",
    "for i in range(rows,0,-1):\n",
    "    for j in range (0,i - 1 ):\n",
    "        print(\"*\",end=' ')\n",
    "    print(\"\")"
   ]
  },
  {
   "cell_type": "markdown",
   "metadata": {},
   "source": [
    "# Write a Python program to reverse a word after accepting the input from the user."
   ]
  },
  {
   "cell_type": "code",
   "execution_count": 57,
   "metadata": {},
   "outputs": [
    {
     "name": "stdout",
     "output_type": "stream",
     "text": [
      "Enter the stringvarun\n",
      "nurav\n"
     ]
    }
   ],
   "source": [
    "user_st = input(\"Enter the string\")\n",
    "\n",
    "reverse=user_st[::-1]\n",
    "\n",
    "print(reverse)"
   ]
  },
  {
   "cell_type": "markdown",
   "metadata": {},
   "source": [
    "# Write a Python Program to print the given string in the format specified in the sample output."
   ]
  },
  {
   "cell_type": "code",
   "execution_count": 9,
   "metadata": {},
   "outputs": [
    {
     "name": "stdout",
     "output_type": "stream",
     "text": [
      "WE,THEPEOPLEOFINDIA,\n",
      "\thavingsolemnlyresolvedtoconstituteIndiaintoaSOVEREIGN, !\n",
      "\t\tSOCIALIST,SECULAR,DEMOCRATICREPUBLIC\n",
      "\t\t andtosecuretoallitscitizens\n"
     ]
    }
   ],
   "source": [
    "string = \"WE, THE PEOPLE OF INDIA, having solemnly resolved to constitute India into a SOVEREIGN, SOCIALIST, SECULAR, DEMOCRATIC REPUBLIC and to secure to all its citizens\"\n",
    "str = ''\n",
    "words = string.split(\" \")\n",
    "for word in words:\n",
    "    if(word == 'INDIA,'):\n",
    "        str = str+word+'\\n'+'\\t'\n",
    "    elif(word == 'SOVEREIGN,'):\n",
    "        str = str+word+\" \"+\"!\"+'\\n'+'\\t'+'\\t'\n",
    "    elif(word == 'REPUBLIC'):\n",
    "        str = str+word+'\\n'+'\\t'+'\\t'+\" \"\n",
    "    else:\n",
    "        str = str+word\n",
    "    \n",
    "print(str)"
   ]
  },
  {
   "cell_type": "code",
   "execution_count": null,
   "metadata": {},
   "outputs": [],
   "source": []
  }
 ],
 "metadata": {
  "kernelspec": {
   "display_name": "Python 3",
   "language": "python",
   "name": "python3"
  },
  "language_info": {
   "codemirror_mode": {
    "name": "ipython",
    "version": 3
   },
   "file_extension": ".py",
   "mimetype": "text/x-python",
   "name": "python",
   "nbconvert_exporter": "python",
   "pygments_lexer": "ipython3",
   "version": "3.7.6"
  }
 },
 "nbformat": 4,
 "nbformat_minor": 4
}
